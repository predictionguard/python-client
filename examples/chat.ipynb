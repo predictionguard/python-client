{
 "cells": [
  {
   "cell_type": "markdown",
   "metadata": {},
   "source": [
    "## Using Chat Completions with Prediction Guard"
   ]
  },
  {
   "cell_type": "markdown",
   "metadata": {},
   "source": [
    "### Set up"
   ]
  },
  {
   "cell_type": "code",
   "execution_count": null,
   "metadata": {},
   "outputs": [],
   "source": [
    "# Import necessary packages\n",
    "import os\n",
    "import json\n",
    "\n",
    "from predictionguard import PredictionGuard\n",
    "\n",
    "\n",
    "# Set PG API Key\n",
    "os.environ[\"PREDICTIONGUARD_API_KEY\"] = \"<api key>\"\n",
    "\n",
    "# Initialize PG client\n",
    "client = PredictionGuard()"
   ]
  },
  {
   "cell_type": "markdown",
   "metadata": {},
   "source": [
    "### Basic Chat Completions"
   ]
  },
  {
   "cell_type": "code",
   "execution_count": null,
   "metadata": {},
   "outputs": [],
   "source": [
    "messages = [\n",
    "    {\n",
    "        \"role\": \"system\",\n",
    "        \"content\": \"You are a helpful assistant that provide clever and sometimes funny responses.\"\n",
    "    },\n",
    "    {\n",
    "        \"role\": \"user\",\n",
    "        \"content\": \"Tell me a funny joke about pirates.\"\n",
    "    }\n",
    "]\n",
    "\n",
    "chat_response = client.chat.completions.create(\n",
    "    model=\"Hermes-2-Pro-Mistral-7B\",\n",
    "    messages=messages,\n",
    "    max_tokens=500,\n",
    "    temperature=1.0,\n",
    "    top_p=1.0,\n",
    "    top_k=50\n",
    ")\n",
    "\n",
    "print(json.dumps(\n",
    "    chat_response,\n",
    "    sort_keys=True,\n",
    "    indent=4,\n",
    "    separators=(',', ': ')\n",
    "))"
   ]
  },
  {
   "cell_type": "markdown",
   "metadata": {},
   "source": [
    "### Streaming Chat Completions"
   ]
  },
  {
   "cell_type": "code",
   "execution_count": null,
   "metadata": {},
   "outputs": [],
   "source": [
    "messages = [\n",
    "    {\n",
    "        \"role\": \"system\",\n",
    "        \"content\": \"You are a helpful assistant that provide clever and sometimes funny responses.\"\n",
    "    },\n",
    "    {\n",
    "        \"role\": \"user\",\n",
    "        \"content\": \"Write me a childrens story about an elf warrior.\"\n",
    "    }\n",
    "]\n",
    "\n",
    "for res in client.chat.completions.create(\n",
    "    model=\"Hermes-2-Pro-Mistral-7B\",\n",
    "    messages=messages,\n",
    "    max_tokens=100,\n",
    "    stream=True\n",
    "):\n",
    "    # Use 'end' parameter in print function to avoid new lines.\n",
    "    print(res[\"data\"][\"choices\"][0][\"delta\"][\"content\"], end='')"
   ]
  },
  {
   "cell_type": "markdown",
   "metadata": {},
   "source": [
    "### Chat Vision"
   ]
  },
  {
   "cell_type": "code",
   "execution_count": null,
   "metadata": {},
   "outputs": [],
   "source": [
    "messages = [\n",
    "    {\n",
    "        \"role\": \"user\",\n",
    "        \"content\": [\n",
    "            {\n",
    "                # Text to use for inference.\n",
    "                \"type\": \"text\",\n",
    "                \"text\": \"What's in this image?\"\n",
    "            },\n",
    "            {\n",
    "                # Image to use for inference. Accepts image urls, files, and base64 encoded images, all under the \"image_url\" param.\n",
    "                \"type\": \"image_url\",\n",
    "                \"image_url\": {\n",
    "                    \"url\": \"https://upload.wikimedia.org/wikipedia/commons/thumb/d/dd/Gfp-wisconsin-madison-the-nature-boardwalk.jpg/2560px-Gfp-wisconsin-madison-the-nature-boardwalk.jpg\",\n",
    "                }\n",
    "            }\n",
    "        ]\n",
    "    },\n",
    "]\n",
    "\n",
    "vision_response = client.chat.completions.create(\n",
    "    model=\"llava-1.5-7b-hf\",\n",
    "    messages=messages\n",
    ")\n",
    "\n",
    "print(json.dumps(\n",
    "    vision_response,\n",
    "    sort_keys=True,\n",
    "    indent=4,\n",
    "    separators=(',', ': ')\n",
    "))"
   ]
  },
  {
   "cell_type": "markdown",
   "metadata": {},
   "source": [
    "### List Chat Models"
   ]
  },
  {
   "cell_type": "code",
   "execution_count": null,
   "metadata": {},
   "outputs": [],
   "source": [
    "model_list = client.chat.completions.list_models()\n",
    "\n",
    "print(model_list)"
   ]
  }
 ],
 "metadata": {
  "language_info": {
   "name": "python"
  }
 },
 "nbformat": 4,
 "nbformat_minor": 2
}
