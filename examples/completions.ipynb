{
 "cells": [
  {
   "cell_type": "markdown",
   "metadata": {},
   "source": [
    "## Using Completions with Prediction Guard"
   ]
  },
  {
   "cell_type": "markdown",
   "metadata": {},
   "source": "### Setup"
  },
  {
   "cell_type": "code",
   "metadata": {},
   "source": [
    "# Import necessary packages\n",
    "import os\n",
    "import json\n",
    "\n",
    "from predictionguard import PredictionGuard\n",
    "\n",
    "\n",
    "\n",
    "# Set your Prediction Guard token and url as an environmental variable.\n",
    "os.environ[\"PREDICTIONGUARD_API_KEY\"] = \"<api key>\"\n",
    "os.environ[\"PREDICTIONGUARD_URL\"] = \"<url>\"\n",
    "\n",
    "# Or set your Prediction Guard token and url when initializing the PredictionGuard class.\n",
    "client = PredictionGuard(\n",
    "    api_key=\"Bg-98uZ5mJPEwFQJE8UN9MuG6KG2SK9gJILyw3nYPFA\",\n",
    "    url=\"<url>\"\n",
    ")"
   ],
   "outputs": [],
   "execution_count": null
  },
  {
   "cell_type": "markdown",
   "metadata": {},
   "source": [
    "### Basic Completions"
   ]
  },
  {
   "cell_type": "code",
   "metadata": {},
   "source": [
    "response = client.completions.create(\n",
    "    model=\"Hermes-3-Llama-3.1-8B\",\n",
    "    prompt=\"Tell me a joke.\",\n",
    "    max_tokens=100\n",
    ")\n",
    "\n",
    "print(json.dumps(\n",
    "    response,\n",
    "    sort_keys=True,\n",
    "    indent=4,\n",
    "    separators=(',', ': ')\n",
    "))"
   ],
   "outputs": [],
   "execution_count": null
  },
  {
   "metadata": {},
   "cell_type": "markdown",
   "source": "### Streaming Completions"
  },
  {
   "metadata": {},
   "cell_type": "code",
   "source": [
    "for res in client.completions.create(\n",
    "    model=\"Hermes-3-Llama-3.1-8B\",\n",
    "    prompt=\"Tell me a joke.\",\n",
    "    max_tokens=100,\n",
    "    stream=True\n",
    "):\n",
    "    # Use 'end' parameter in print function to avoid new lines.\n",
    "    print(res[\"data\"][\"choices\"][0][\"text\"], end=\"\")"
   ],
   "outputs": [],
   "execution_count": null
  },
  {
   "cell_type": "markdown",
   "metadata": {},
   "source": [
    "### List Completions Models"
   ]
  },
  {
   "cell_type": "code",
   "metadata": {},
   "source": [
    "model_list = client.completions.list_models()\n",
    "\n",
    "print(model_list)"
   ],
   "outputs": [],
   "execution_count": null
  }
 ],
 "metadata": {
  "language_info": {
   "name": "python"
  }
 },
 "nbformat": 4,
 "nbformat_minor": 2
}
