{
 "cells": [
  {
   "metadata": {},
   "cell_type": "markdown",
   "source": "## Detokenizing Tokens with Prediction Guard",
   "id": "2dfc95ad4b726795"
  },
  {
   "metadata": {},
   "cell_type": "markdown",
   "source": "### Setup",
   "id": "a7e2a6476b93e93"
  },
  {
   "cell_type": "code",
   "execution_count": null,
   "id": "initial_id",
   "metadata": {
    "collapsed": true
   },
   "outputs": [],
   "source": [
    "# Import necessary packages\n",
    "import os\n",
    "import json\n",
    "\n",
    "from predictionguard import PredictionGuard\n",
    "\n",
    "\n",
    "# Set your Prediction Guard token and url as an environmental variable.\n",
    "os.environ[\"PREDICTIONGUARD_API_KEY\"] = \"<api key>\"\n",
    "os.environ[\"PREDICTIONGUARD_URL\"] = \"<url>\"\n",
    "\n",
    "# Or set your Prediction Guard token and url when initializing the PredictionGuard class.\n",
    "client = PredictionGuard(\n",
    "    api_key=\"<api_key>\",\n",
    "    url=\"<url>\"\n",
    ")"
   ]
  },
  {
   "metadata": {},
   "cell_type": "markdown",
   "source": "### Detokenize Tokens",
   "id": "f700a2041d5f54c8"
  },
  {
   "metadata": {},
   "cell_type": "code",
   "outputs": [],
   "execution_count": null,
   "source": [
    "response = client.detokenize.create(\n",
    "    model=\"Qwen2.5-Coder-14B-Instruct\",\n",
    "    tokens=[896, 686, 77651, 419, 914, 13]\n",
    ")\n",
    "\n",
    "print(json.dumps(\n",
    "    response,\n",
    "    sort_keys=True,\n",
    "    indent=4,\n",
    "    separators=(\",\", \": \")\n",
    "))"
   ],
   "id": "562b0678b063758b"
  },
  {
   "metadata": {},
   "cell_type": "markdown",
   "source": "### List Models That Support Detokenization",
   "id": "778f0dbd06037109"
  },
  {
   "metadata": {},
   "cell_type": "code",
   "outputs": [],
   "execution_count": null,
   "source": [
    "model_list = client.detokenize.list_models()\n",
    "\n",
    "print(model_list)"
   ],
   "id": "4193d1ffdb8c2396"
  }
 ],
 "metadata": {
  "kernelspec": {
   "display_name": "Python 3",
   "language": "python",
   "name": "python3"
  },
  "language_info": {
   "codemirror_mode": {
    "name": "ipython",
    "version": 2
   },
   "file_extension": ".py",
   "mimetype": "text/x-python",
   "name": "python",
   "nbconvert_exporter": "python",
   "pygments_lexer": "ipython2",
   "version": "2.7.6"
  }
 },
 "nbformat": 4,
 "nbformat_minor": 5
}
