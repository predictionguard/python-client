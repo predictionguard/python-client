{
 "cells": [
  {
   "cell_type": "markdown",
   "metadata": {},
   "source": [
    "## Generating Text Embeddings with Prediction Guard"
   ]
  },
  {
   "cell_type": "markdown",
   "metadata": {},
   "source": [
    "### Set Up"
   ]
  },
  {
   "cell_type": "code",
   "execution_count": null,
   "metadata": {},
   "outputs": [],
   "source": [
    "# Import necessary packages\n",
    "import os\n",
    "import json\n",
    "\n",
    "from predictionguard import PredictionGuard\n",
    "\n",
    "\n",
    "# Set your Prediction Guard token and url as an environmental variable.\n",
    "os.environ[\"PREDICTIONGUARD_API_KEY\"] = \"<api key>\"\n",
    "os.environ[\"PREDICTIONGUARD_URL\"] = \"<url>\"\n",
    "\n",
    "# Or set your Prediction Guard token and url when initializing the PredictionGuard class.\n",
    "client = PredictionGuard(\n",
    "    api_key=\"<api_key>\",\n",
    "    url=\"<url>\"\n",
    ")"
   ]
  },
  {
   "metadata": {},
   "cell_type": "markdown",
   "source": "### Generating Text Embeddings"
  },
  {
   "metadata": {},
   "cell_type": "code",
   "outputs": [],
   "execution_count": null,
   "source": [
    "response = client.embeddings.create(\n",
    "    model=\"bge-m3\",\n",
    "    input=\"Embed this please!\"\n",
    ")\n",
    "\n",
    "print(json.dumps(\n",
    "    response,\n",
    "    sort_keys=True,\n",
    "    indent=4,\n",
    "    separators=(',', ': ')\n",
    "))"
   ]
  },
  {
   "cell_type": "markdown",
   "metadata": {},
   "source": "### Generating MultiModal Embeddings"
  },
  {
   "cell_type": "code",
   "execution_count": null,
   "metadata": {},
   "outputs": [],
   "source": [
    "response = client.embeddings.create(\n",
    "    model=\"bridgetower-large-itm-mlm-itc\",\n",
    "    input=[\n",
    "        {\n",
    "            # Text to embed.\n",
    "            \"text\": \"Tell me a joke.\",\n",
    "            # Image to embed. Accepts image files, urls, or base64 encoded images.\n",
    "            \"image\": \"https://farm4.staticflickr.com/3300/3497460990_11dfb95dd1_z.jpg\"\n",
    "        }\n",
    "    ]\n",
    ")\n",
    "\n",
    "print(json.dumps(\n",
    "    response,\n",
    "    sort_keys=True,\n",
    "    indent=4,\n",
    "    separators=(',', ': ')\n",
    "))"
   ]
  },
  {
   "cell_type": "markdown",
   "metadata": {},
   "source": [
    "### List Embeddings Models"
   ]
  },
  {
   "cell_type": "code",
   "execution_count": null,
   "metadata": {},
   "outputs": [],
   "source": [
    "model_list = client.embeddings.create()\n",
    "\n",
    "print(model_list)"
   ]
  }
 ],
 "metadata": {
  "language_info": {
   "name": "python"
  }
 },
 "nbformat": 4,
 "nbformat_minor": 2
}
