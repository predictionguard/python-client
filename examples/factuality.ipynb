{
 "cells": [
  {
   "cell_type": "markdown",
   "metadata": {},
   "source": [
    "## Check Text Factuality with Prediction Guard"
   ]
  },
  {
   "cell_type": "markdown",
   "metadata": {},
   "source": [
    "### Set Up"
   ]
  },
  {
   "cell_type": "code",
   "execution_count": null,
   "metadata": {},
   "outputs": [],
   "source": [
    "# Import necessary packages\n",
    "import os\n",
    "import json\n",
    "\n",
    "from predictionguard import PredictionGuard\n",
    "\n",
    "\n",
    "# Set your Prediction Guard token and url as an environmental variable.\n",
    "os.environ[\"PREDICTIONGUARD_API_KEY\"] = \"<api key>\"\n",
    "os.environ[\"PREDICTIONGUARD_URL\"] = \"<url>\"\n",
    "\n",
    "# Or set your Prediction Guard token and url when initializing the PredictionGuard class.\n",
    "client = PredictionGuard(\n",
    "    api_key=\"<api_key>\",\n",
    "    url=\"<url>\"\n",
    ")"
   ]
  },
  {
   "cell_type": "markdown",
   "metadata": {},
   "source": [
    "### Check Factuality"
   ]
  },
  {
   "cell_type": "code",
   "execution_count": null,
   "metadata": {},
   "outputs": [],
   "source": [
    "response = client.factuality.check(\n",
    "    reference=\"The sky is blue.\",\n",
    "    text=\"The sky is green.\"\n",
    ")\n",
    "\n",
    "print(json.dumps(\n",
    "    response,\n",
    "    sort_keys=True,\n",
    "    indent=4,\n",
    "    separators=(',', ': ')\n",
    "))"
   ]
  },
  {
   "cell_type": "markdown",
   "metadata": {},
   "source": [
    "### Check Factuality with PG Chat"
   ]
  },
  {
   "cell_type": "code",
   "execution_count": null,
   "metadata": {},
   "outputs": [],
   "source": [
    "# The PG Chat route supports factuality checks in the basic chat route and the vision route.\n",
    "messages = [\n",
    "    {\n",
    "        \"role\": \"system\",\n",
    "        \"content\": \"You are a helpful assistant that provide clever and sometimes funny responses.\"\n",
    "    },\n",
    "    {\n",
    "        \"role\": \"user\",\n",
    "        \"content\": \"Tell what the earth orbits around.\"\n",
    "    }\n",
    "]\n",
    "\n",
    "chat_response = client.chat.completions.create(\n",
    "    model=\"Hermes-3-Llama-3.1-8B\",\n",
    "    messages=messages,\n",
    "    output={\n",
    "        \"factuality\": True\n",
    "    }\n",
    ")\n",
    "\n",
    "print(json.dumps(\n",
    "    chat_response,\n",
    "    sort_keys=True,\n",
    "    indent=4,\n",
    "    separators=(',', ': ')\n",
    "))"
   ]
  },
  {
   "cell_type": "markdown",
   "metadata": {},
   "source": [
    "### Check Factuality with PG Completions"
   ]
  },
  {
   "cell_type": "code",
   "execution_count": null,
   "metadata": {},
   "outputs": [],
   "source": [
    "response = client.completions.create(\n",
    "    model=\"Hermes-3-Llama-3.1-8B\",\n",
    "    messages=\"Tell what the earth orbits around.\",\n",
    "    output={\n",
    "        \"factuality\": True\n",
    "    }\n",
    ")\n",
    "\n",
    "print(json.dumps(\n",
    "    response,\n",
    "    sort_keys=True,\n",
    "    indent=4,\n",
    "    separators=(',', ': ')\n",
    "))"
   ]
  }
 ],
 "metadata": {
  "language_info": {
   "name": "python"
  }
 },
 "nbformat": 4,
 "nbformat_minor": 2
}
