{
 "cells": [
  {
   "cell_type": "markdown",
   "metadata": {},
   "source": [
    "## Check for Personal Identifiable Information (PII) with Prediction Guard"
   ]
  },
  {
   "cell_type": "markdown",
   "metadata": {},
   "source": [
    "### Set Up"
   ]
  },
  {
   "cell_type": "code",
   "execution_count": null,
   "metadata": {},
   "outputs": [],
   "source": [
    "# Import necessary packages\n",
    "import os\n",
    "import json\n",
    "\n",
    "from predictionguard import PredictionGuard\n",
    "\n",
    "\n",
    "# Set PG API Key\n",
    "os.environ[\"PREDICTIONGUARD_API_KEY\"] = \"<api key>\"\n",
    "\n",
    "# Initialize PG client\n",
    "client = PredictionGuard()"
   ]
  },
  {
   "cell_type": "markdown",
   "metadata": {},
   "source": [
    "### Check for PII"
   ]
  },
  {
   "cell_type": "code",
   "execution_count": null,
   "metadata": {},
   "outputs": [],
   "source": [
    "response = client.pii.check(\n",
    "    prompt=\"My name is John Doe, and my SSN is 111-22-3333.\",\n",
    "    # Set if you want to replace any PII present.\n",
    "    # If set to False, it returns a dictionary \n",
    "    # containing any PII and the indices of the PII\n",
    "    replace=True,\n",
    "    # Method of replacing the PII.\n",
    "    # Available options are 'random', 'mask', 'fake'.\n",
    "    replace_method=\"random\"\n",
    ")\n",
    "\n",
    "print(json.dumps(\n",
    "    response,\n",
    "    sort_keys=True,\n",
    "    indent=4,\n",
    "    separators=(',', ': ')\n",
    "))"
   ]
  },
  {
   "cell_type": "markdown",
   "metadata": {},
   "source": [
    "### Check for PII with PG Chat"
   ]
  },
  {
   "cell_type": "code",
   "execution_count": null,
   "metadata": {},
   "outputs": [],
   "source": [
    "# The PG Chat route supports PII checks in the basic chat route, streaming route, and vision route.\n",
    "messages = [\n",
    "    {\n",
    "        \"role\": \"system\",\n",
    "        \"content\": \"You are a helpful assistant that provide clever and sometimes funny responses.\"\n",
    "    },\n",
    "    {\n",
    "        \"role\": \"user\",\n",
    "        \"content\": \"Tell what the earth orbits around.\"\n",
    "    }\n",
    "]\n",
    "\n",
    "chat_response = client.chat.completions.create(\n",
    "    model=\"Hermes-2-Pro-Mistral-7B\",\n",
    "    messages=messages,\n",
    "    input={\n",
    "        # The PII parameter can be set to 'replace' or 'block'.\n",
    "        \"pii\": \"replace\",\n",
    "        # If PII is set to 'replace', this parameter is needed.\n",
    "        # The methods available are 'random', 'mask', and 'fake'.\n",
    "        \"pii_replace_method\": \"random\"\n",
    "    }\n",
    ")\n",
    "\n",
    "print(json.dumps(\n",
    "    chat_response,\n",
    "    sort_keys=True,\n",
    "    indent=4,\n",
    "    separators=(',', ': ')\n",
    "))"
   ]
  },
  {
   "cell_type": "markdown",
   "metadata": {},
   "source": [
    "### Check for PII with PG Completions"
   ]
  },
  {
   "cell_type": "code",
   "execution_count": null,
   "metadata": {},
   "outputs": [],
   "source": [
    "response = client.completions.create(\n",
    "    model=\"Hermes-2-Pro-Mistral-7B\",\n",
    "    messages=\"My name is John Doe and my SSN is 111-22-3333.\",\n",
    "    input={\n",
    "        # The PII parameter can be set to 'replace' or 'block'.\n",
    "        \"pii\": \"replace\",\n",
    "        # If PII is set to 'replace', this parameter is needed.\n",
    "        # The methods available are 'random', 'mask', and 'fake'.\n",
    "        \"pii_replace_method\": \"random\"\n",
    "    }\n",
    ")\n",
    "\n",
    "print(json.dumps(\n",
    "    response,\n",
    "    sort_keys=True,\n",
    "    indent=4,\n",
    "    separators=(',', ': ')\n",
    "))"
   ]
  }
 ],
 "metadata": {
  "language_info": {
   "name": "python"
  }
 },
 "nbformat": 4,
 "nbformat_minor": 2
}
