{
 "cells": [
  {
   "cell_type": "code",
   "execution_count": 1,
   "id": "ad0383a7",
   "metadata": {},
   "outputs": [
    {
     "ename": "SyntaxError",
     "evalue": "invalid syntax (3172202563.py, line 1)",
     "output_type": "error",
     "traceback": [
      "\u001b[0;36m  Input \u001b[0;32mIn [1]\u001b[0;36m\u001b[0m\n\u001b[0;31m    from ../predictionguard/client import Client\u001b[0m\n\u001b[0m           ^\u001b[0m\n\u001b[0;31mSyntaxError\u001b[0m\u001b[0;31m:\u001b[0m invalid syntax\n"
     ]
    }
   ],
   "source": [
    "from ../predictionguard/client import Client"
   ]
  },
  {
   "cell_type": "code",
   "execution_count": null,
   "id": "dcab6eaa",
   "metadata": {},
   "outputs": [],
   "source": [
    "# Initialize a Prediction Guard client.\n",
    "client = Client()"
   ]
  },
  {
   "cell_type": "code",
   "execution_count": null,
   "id": "9f70aeea",
   "metadata": {},
   "outputs": [],
   "source": [
    "# Create some examples illustrating the kind of predictions you\n",
    "# want to make (domain/ use case specific).\n",
    "examples = [\n",
    "    {\n",
    "        \"input\": {\n",
    "            \"phrase\": \"I'm so excited about Prediction Guard. It's gonna be awesome!\",\n",
    "        },\n",
    "        \"output\": {\n",
    "            \"sentiment\": \"POS\"\n",
    "        }\n",
    "    },\n",
    "    {\n",
    "        \"input\": {\n",
    "            \"phrase\": \"AI development without Prediction Guard is bad. It's really terrible.\"\n",
    "        },\n",
    "        \"output\": {\n",
    "            \"sentiment\": \"NEG\"\n",
    "        }\n",
    "    }\n",
    "]"
   ]
  },
  {
   "cell_type": "code",
   "execution_count": null,
   "id": "eee978e6",
   "metadata": {},
   "outputs": [],
   "source": [
    "# Create a prediction \"proxy.\" This proxy will save your examples, evaluate\n",
    "# SOTA models to find the best one for your use case, and expose the best model\n",
    "# at an endpoint corresponding to the proxy.\n",
    "client.create_proxy(task='sentiment', name='test-client-sentiment6', examples=examples)"
   ]
  },
  {
   "cell_type": "code",
   "execution_count": null,
   "id": "7c60bf2f",
   "metadata": {},
   "outputs": [],
   "source": [
    "# Now your ready to start getting reliable, future proof predictions. No fuss!\n",
    "client.predict(name='test-client-sentiment4', data={\n",
    "    \"phrase\": \"Isn't this great! I'm so happy I'm using Prediction Guard\"\n",
    "})"
   ]
  },
  {
   "cell_type": "code",
   "execution_count": null,
   "id": "60aad315",
   "metadata": {},
   "outputs": [],
   "source": [
    "client.list_proxies()"
   ]
  },
  {
   "cell_type": "code",
   "execution_count": null,
   "id": "f2d283e7",
   "metadata": {},
   "outputs": [],
   "source": []
  }
 ],
 "metadata": {
  "kernelspec": {
   "display_name": "Python 3 (ipykernel)",
   "language": "python",
   "name": "python3"
  },
  "language_info": {
   "codemirror_mode": {
    "name": "ipython",
    "version": 3
   },
   "file_extension": ".py",
   "mimetype": "text/x-python",
   "name": "python",
   "nbconvert_exporter": "python",
   "pygments_lexer": "ipython3",
   "version": "3.8.10"
  }
 },
 "nbformat": 4,
 "nbformat_minor": 5
}
