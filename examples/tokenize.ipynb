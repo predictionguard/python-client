{
 "cells": [
  {
   "metadata": {},
   "cell_type": "markdown",
   "source": "## Tokenizing Text with Prediction Guard",
   "id": "23dddae501fe5337"
  },
  {
   "metadata": {},
   "cell_type": "markdown",
   "source": "### Setup",
   "id": "4cbe6397d1ee886a"
  },
  {
   "cell_type": "code",
   "execution_count": null,
   "id": "initial_id",
   "metadata": {
    "collapsed": true
   },
   "outputs": [],
   "source": [
    "# Import necessary packages\n",
    "import os\n",
    "import json\n",
    "\n",
    "from predictionguard import PredictionGuard\n",
    "\n",
    "\n",
    "# Set your Prediction Guard token and url as an environmental variable.\n",
    "os.environ[\"PREDICTIONGUARD_API_KEY\"] = \"<api key>\"\n",
    "os.environ[\"PREDICTIONGUARD_URL\"] = \"<url>\"\n",
    "\n",
    "# Or set your Prediction Guard token and url when initializing the PredictionGuard class.\n",
    "client = PredictionGuard(\n",
    "    api_key=\"<api_key>\",\n",
    "    url=\"<url>\"\n",
    ")"
   ]
  },
  {
   "metadata": {},
   "cell_type": "markdown",
   "source": "### Tokenize Text",
   "id": "7150f1250bdfbbae"
  },
  {
   "metadata": {},
   "cell_type": "code",
   "outputs": [],
   "execution_count": null,
   "source": [
    "response = client.tokenize.create(\n",
    "    model=\"Qwen2.5-Coder-14B-Instruct\",\n",
    "    input=\"Tokenize this please.\"\n",
    ")\n",
    "\n",
    "print(json.dumps(\n",
    "    response,\n",
    "    sort_keys=True,\n",
    "    indent=4,\n",
    "    separators=(\",\", \": \")\n",
    "))"
   ],
   "id": "96703b823b84fe19"
  },
  {
   "metadata": {},
   "cell_type": "markdown",
   "source": "### List Models That Support Tokenization",
   "id": "59a1496d0530a2a3"
  },
  {
   "metadata": {},
   "cell_type": "code",
   "outputs": [],
   "execution_count": null,
   "source": [
    "model_list = client.tokenize.list_models()\n",
    "\n",
    "print(model_list)"
   ],
   "id": "6f85dea216ee009c"
  }
 ],
 "metadata": {
  "kernelspec": {
   "display_name": "Python 3",
   "language": "python",
   "name": "python3"
  },
  "language_info": {
   "codemirror_mode": {
    "name": "ipython",
    "version": 2
   },
   "file_extension": ".py",
   "mimetype": "text/x-python",
   "name": "python",
   "nbconvert_exporter": "python",
   "pygments_lexer": "ipython2",
   "version": "2.7.6"
  }
 },
 "nbformat": 4,
 "nbformat_minor": 5
}
